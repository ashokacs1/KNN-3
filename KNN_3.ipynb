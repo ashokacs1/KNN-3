{
  "nbformat": 4,
  "nbformat_minor": 0,
  "metadata": {
    "colab": {
      "provenance": []
    },
    "kernelspec": {
      "name": "python3",
      "display_name": "Python 3"
    },
    "language_info": {
      "name": "python"
    }
  },
  "cells": [
    {
      "cell_type": "markdown",
      "source": [
        "Q1. Write a Python code to implement the KNN classifier algorithm on load_iris dataset in\n",
        "sklearn.datasets.\n",
        "\n",
        "Q2. Write a Python code to implement the KNN regressor algorithm on load_boston dataset in\n",
        "sklearn.datasets.\n",
        "\n",
        "Q3. Write a Python code snippet to find the optimal value of K for the KNN classifier algorithm using\n",
        "cross-validation on load_iris dataset in sklearn.datasets.\n",
        "\n",
        "Q4. Implement the KNN regressor algorithm with feature scaling on load_boston dataset in\n",
        "sklearn.datasets.\n",
        "\n",
        "Q5. Write a Python code snippet to implement the KNN classifier algorithm with weighted voting on\n",
        "load_iris dataset in sklearn.datasets.\n",
        "\n",
        "Q6. Implement a function to standardise the features before applying KNN classifier.\n",
        "\n",
        "Q7. Write a Python function to calculate the euclidean distance between two points.\n",
        "\n",
        "Q8. Write a Python function to calculate the manhattan distance between two points."
      ],
      "metadata": {
        "id": "pOg2XTZwUMBq"
      }
    },
    {
      "cell_type": "code",
      "source": [
        "import pandas as pd\n",
        "import numpy as np\n",
        "import seaborn as sns\n"
      ],
      "metadata": {
        "id": "V3ucW7RxURf3"
      },
      "execution_count": 3,
      "outputs": []
    },
    {
      "cell_type": "code",
      "source": [
        "from sklearn.model_selection import train_test_split\n",
        "from sklearn.metrics import accuracy_score,confusion_matrix,r2_score,mean_absolute_error\n",
        "from sklearn.datasets import load_iris\n",
        "from sklearn.preprocessing import StandardScaler\n",
        "from sklearn.neighbors import KNeighborsClassifier,KNeighborsRegressor\n"
      ],
      "metadata": {
        "id": "3c77fidbVETb"
      },
      "execution_count": 8,
      "outputs": []
    },
    {
      "cell_type": "code",
      "source": [
        "#Q1 Implememnt KNN for the Iris Dtaset\n",
        "iris = load_iris()\n",
        "x,y = iris.data,iris.target\n",
        "x_train,x_test,y_train,y_test = train_test_split(x,y,test_size=0.33,random_state=42)\n",
        "clssi = KNeighborsClassifier(n_neighbors=5,algorithm='auto')\n",
        "clssi.fit(x_train,y_train)\n",
        "ypre = clssi.predict(x_test)\n",
        "print(accuracy_score(y_test,ypre))\n",
        "print(confusion_matrix(y_test,ypre))\n"
      ],
      "metadata": {
        "colab": {
          "base_uri": "https://localhost:8080/"
        },
        "id": "AJ0fOGogWkXb",
        "outputId": "f77bc203-a0ff-4aa3-bd15-5a27cb5d90bc"
      },
      "execution_count": 14,
      "outputs": [
        {
          "output_type": "stream",
          "name": "stdout",
          "text": [
            "0.98\n",
            "[[19  0  0]\n",
            " [ 0 15  0]\n",
            " [ 0  1 15]]\n"
          ]
        }
      ]
    },
    {
      "cell_type": "code",
      "source": [
        "# the optimal value of K for the KNN classifier algorithm using cross-validation\n",
        "parameter = {\n",
        "    'n_neighbors':[1,2,3,4,5,6,7],\n",
        "    'weights':['uniform','distance'],\n",
        "    'algorithm':['auto','kd_tree','ball_tree']\n",
        "}\n",
        "from sklearn.model_selection import GridSearchCV\n",
        "grid = GridSearchCV(estimator=clssi,param_grid=parameter,cv=5)\n",
        "grid.fit(x_train,y_train)\n",
        "grid.best_params_"
      ],
      "metadata": {
        "colab": {
          "base_uri": "https://localhost:8080/"
        },
        "id": "Xk_5PHw3XLJv",
        "outputId": "b1e5a019-6df3-4274-9597-69a320104e69"
      },
      "execution_count": 16,
      "outputs": [
        {
          "output_type": "execute_result",
          "data": {
            "text/plain": [
              "{'algorithm': 'auto', 'n_neighbors': 1, 'weights': 'uniform'}"
            ]
          },
          "metadata": {},
          "execution_count": 16
        }
      ]
    },
    {
      "cell_type": "code",
      "source": [
        "# Q5: KNN Classifier with weighted voting\n",
        "knn_weighted = KNeighborsClassifier(n_neighbors=3, weights='distance')\n",
        "knn_weighted.fit(x_train, y_train)\n",
        "print(\"KNN Classifier with weighted voting accuracy:\", knn_weighted.score(x_test, y_test))\n",
        "\n"
      ],
      "metadata": {
        "colab": {
          "base_uri": "https://localhost:8080/"
        },
        "id": "ax2LiKmuXOFS",
        "outputId": "ff1024f4-56b2-4c3e-c981-aac3e5391ff8"
      },
      "execution_count": 18,
      "outputs": [
        {
          "output_type": "stream",
          "name": "stdout",
          "text": [
            "KNN Classifier with weighted voting accuracy: 0.98\n"
          ]
        }
      ]
    },
    {
      "cell_type": "code",
      "source": [
        "# Q7 Write a Python function to calculate the euclidean distance between two points\n",
        "a1 = [1,2,3]\n",
        "a2 = [4,5,6]\n",
        "def euclidean_distance(a1,a2):\n",
        "  return np.sqrt(np.sum((np.array(a1)-np.array(a2))**2))\n",
        "print('euclidean_distance:',euclidean_distance(a1,a2))\n",
        "\n"
      ],
      "metadata": {
        "colab": {
          "base_uri": "https://localhost:8080/"
        },
        "id": "qjWYbVLJacaj",
        "outputId": "5f97c1e7-cbdb-458a-841b-50489855fb21"
      },
      "execution_count": 28,
      "outputs": [
        {
          "output_type": "stream",
          "name": "stdout",
          "text": [
            "euclidean_distance: 5.196152422706632\n"
          ]
        }
      ]
    },
    {
      "cell_type": "code",
      "source": [
        "# Q8. Write a Python function to calculate the manhattan distance between two points.\n",
        "def manhattan_distance(a1,a2):\n",
        "  return np.sum(abs(np.array(a1)-np.array(a2)))\n",
        "print('manhattan_distance:',manhattan_distance(a1,a2))"
      ],
      "metadata": {
        "colab": {
          "base_uri": "https://localhost:8080/"
        },
        "id": "exHrpZS2cbXB",
        "outputId": "dcb4b8b4-707c-41e5-eec6-00c78f951ac5"
      },
      "execution_count": 30,
      "outputs": [
        {
          "output_type": "stream",
          "name": "stdout",
          "text": [
            "manhattan_distance: 9\n"
          ]
        }
      ]
    }
  ]
}